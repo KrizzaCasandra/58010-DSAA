{
  "nbformat": 4,
  "nbformat_minor": 0,
  "metadata": {
    "colab": {
      "provenance": [],
      "authorship_tag": "ABX9TyOfK4PsXJJsBnldFX8UmKdY",
      "include_colab_link": true
    },
    "kernelspec": {
      "name": "python3",
      "display_name": "Python 3"
    },
    "language_info": {
      "name": "python"
    }
  },
  "cells": [
    {
      "cell_type": "markdown",
      "metadata": {
        "id": "view-in-github",
        "colab_type": "text"
      },
      "source": [
        "<a href=\"https://colab.research.google.com/github/KrizzaCasandra/58010-DSAA/blob/main/Queues.ipynb\" target=\"_parent\"><img src=\"https://colab.research.google.com/assets/colab-badge.svg\" alt=\"Open In Colab\"/></a>"
      ]
    },
    {
      "cell_type": "code",
      "execution_count": 11,
      "metadata": {
        "colab": {
          "base_uri": "https://localhost:8080/"
        },
        "id": "HDuRv2XKK1ow",
        "outputId": "ac62d326-f8d6-4a47-e04f-f2695048d003"
      },
      "outputs": [
        {
          "output_type": "stream",
          "name": "stdout",
          "text": [
            "['C', 'A', 'T']\n",
            "[]\n"
          ]
        }
      ],
      "source": [
        "Queues=[]\n",
        "#INSERT THE ELEMENT IN THE QUEUE, ENQUEUE\n",
        "Queues.append('C')\n",
        "Queues.append('A')\n",
        "Queues.append('T')\n",
        "print(Queues)\n",
        "\n",
        "#REMOVING THE ELEMENT IN THE QUEUE, DEQUEUE\n",
        "Queues.pop(0)\n",
        "Queues.pop(0)\n",
        "Queues.pop(0)\n",
        "print(Queues)"
      ]
    }
  ]
}