{
  "nbformat": 4,
  "nbformat_minor": 0,
  "metadata": {
    "colab": {
      "provenance": [],
      "authorship_tag": "ABX9TyN4DlFRbMhBIcfw2s5imJ/O",
      "include_colab_link": true
    },
    "kernelspec": {
      "name": "python3",
      "display_name": "Python 3"
    },
    "language_info": {
      "name": "python"
    }
  },
  "cells": [
    {
      "cell_type": "markdown",
      "metadata": {
        "id": "view-in-github",
        "colab_type": "text"
      },
      "source": [
        "<a href=\"https://colab.research.google.com/github/KrizzaCasandra/58010-DSAA/blob/main/MIDTERM_EXAM.ipynb\" target=\"_parent\"><img src=\"https://colab.research.google.com/assets/colab-badge.svg\" alt=\"Open In Colab\"/></a>"
      ]
    },
    {
      "cell_type": "code",
      "source": [
        "#Ma. Krizza Casandra Plaza\n",
        "#Display Graph Edges\n",
        "\n",
        "class graph:\n",
        "   def __init__(self,gdict=None):\n",
        "      if gdict is None:\n",
        "         gdict = {}\n",
        "      self.gdict = gdict\n",
        "\n",
        "   def edges(self):\n",
        "      return self.findedges()\n",
        "# Find the distinct list of edges\n",
        "   def findedges(self):\n",
        "      edgename = []\n",
        "      for vrtx in self.gdict:\n",
        "         for nxtvrtx in self.gdict[vrtx]:\n",
        "            if {nxtvrtx, vrtx} not in edgename:\n",
        "               edgename.append({vrtx, nxtvrtx})\n",
        "      return edgename\n",
        "# Create the dictionary with graph elements\n",
        "graph_elements = {\n",
        "   \"A\" : [\"B\"],\n",
        "   \"B\" : [\"C\", \"E\", \"F\"],\n",
        "   \"C\" : [\"D\", \"E\", \"B\", \"F\", \"M\", \"I\"],\n",
        "   \"D\" : [\"L\",\"K\"],\n",
        "   \"E\" : [\"C\", \"B\", \"N\"],\n",
        "   \"F\" : [\"B\", \"C\", \"G\", \"I\"],\n",
        "   \"G\" : [\"F\", \"I\", \"J\"],\n",
        "   \"I\" : [\"C\", \"F\", \"G\", \"J\", \"K\"],\n",
        "   \"J\" : [\"K\", \"I\", \"G\"],\n",
        "   \"K\" : [\"D\", \"I\", \"J\"],\n",
        "   \"L\" : [\"D\", \"M\", \"P\"],\n",
        "   \"M\" : [\"C\", \"L\", \"O\", \"P\", \"N\"],\n",
        "   \"N\" : [\"E\", \"M\", \"O\"],\n",
        "   \"O\" : [\"N\", \"M\", \"P\"],\n",
        "   \"P\" : [\"O\", \"L\", \"M\"]\n",
        "}\n",
        "g = graph(graph_elements)\n",
        "print(g.edges())"
      ],
      "metadata": {
        "colab": {
          "base_uri": "https://localhost:8080/"
        },
        "id": "P1I7tVvhqgYi",
        "outputId": "e23c9ca5-0a63-4b61-a0f0-27c9f587bb48"
      },
      "execution_count": 2,
      "outputs": [
        {
          "output_type": "stream",
          "name": "stdout",
          "text": [
            "[{'B', 'A'}, {'C', 'B'}, {'E', 'B'}, {'F', 'B'}, {'C', 'D'}, {'C', 'E'}, {'C', 'F'}, {'C', 'M'}, {'C', 'I'}, {'L', 'D'}, {'K', 'D'}, {'E', 'N'}, {'F', 'G'}, {'F', 'I'}, {'G', 'I'}, {'G', 'J'}, {'I', 'J'}, {'I', 'K'}, {'J', 'K'}, {'L', 'M'}, {'L', 'P'}, {'M', 'O'}, {'M', 'P'}, {'N', 'M'}, {'N', 'O'}, {'P', 'O'}]\n"
          ]
        }
      ]
    },
    {
      "cell_type": "code",
      "source": [
        "#Ma.Krizza Casandra Plaza\n",
        "#Display Graph Vertices\n",
        "\n",
        "class graph:\n",
        "   def __init__(self,gdict=None):\n",
        "      if gdict is None:\n",
        "         gdict = []\n",
        "      self.gdict = gdict\n",
        "# Get the keys of the dictionary\n",
        "   def getVertices(self):\n",
        "      return list(self.gdict.keys())\n",
        "# Create the dictionary with graph elements\n",
        "graph_elements = {\n",
        "   \"A\" : [\"B\"],\n",
        "   \"B\" : [\"C\", \"E\", \"F\"],\n",
        "   \"C\" : [\"D\", \"E\", \"B\", \"F\", \"M\", \"I\"],\n",
        "   \"D\" : [\"L\",\"K\"],\n",
        "   \"E\" : [\"C\", \"B\", \"N\"],\n",
        "   \"F\" : [\"B\", \"C\", \"G\", \"I\"],\n",
        "   \"G\" : [\"F\", \"I\", \"J\"],\n",
        "   \"I\" : [\"C\", \"F\", \"G\", \"J\", \"K\"],\n",
        "   \"J\" : [\"K\", \"I\", \"G\"],\n",
        "   \"K\" : [\"D\", \"I\", \"J\"],\n",
        "   \"L\" : [\"D\", \"M\", \"P\"],\n",
        "   \"M\" : [\"C\", \"L\", \"O\", \"P\", \"N\"],\n",
        "   \"N\" : [\"E\", \"M\", \"O\"],\n",
        "   \"O\" : [\"N\", \"M\", \"P\"],\n",
        "   \"P\" : [\"O\", \"L\", \"M\"]\n",
        "}\n",
        "g = graph(graph_elements)\n",
        "print(g.getVertices())"
      ],
      "metadata": {
        "colab": {
          "base_uri": "https://localhost:8080/"
        },
        "id": "6MFMfJlxtjE6",
        "outputId": "48a174de-07b7-466c-bbaa-f559f1b4b439"
      },
      "execution_count": 3,
      "outputs": [
        {
          "output_type": "stream",
          "name": "stdout",
          "text": [
            "['A', 'B', 'C', 'D', 'E', 'F', 'G', 'I', 'J', 'K', 'L', 'M', 'N', 'O', 'P']\n"
          ]
        }
      ]
    }
  ]
}