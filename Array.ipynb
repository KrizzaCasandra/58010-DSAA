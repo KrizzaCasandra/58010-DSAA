{
  "nbformat": 4,
  "nbformat_minor": 0,
  "metadata": {
    "colab": {
      "provenance": [],
      "authorship_tag": "ABX9TyM3rkznzSKCw8OOKO0km5bM",
      "include_colab_link": true
    },
    "kernelspec": {
      "name": "python3",
      "display_name": "Python 3"
    },
    "language_info": {
      "name": "python"
    }
  },
  "cells": [
    {
      "cell_type": "markdown",
      "metadata": {
        "id": "view-in-github",
        "colab_type": "text"
      },
      "source": [
        "<a href=\"https://colab.research.google.com/github/KrizzaCasandra/58010-DSAA/blob/main/Array.ipynb\" target=\"_parent\"><img src=\"https://colab.research.google.com/assets/colab-badge.svg\" alt=\"Open In Colab\"/></a>"
      ]
    },
    {
      "cell_type": "markdown",
      "source": [
        "Array\n",
        "\n",
        "*   Accessing the elements of Array\n"
      ],
      "metadata": {
        "id": "dhuBw7autxi5"
      }
    },
    {
      "cell_type": "code",
      "source": [
        "#Accessing the elements of Array\n",
        "SchoolSupplies=[\"Pencil\", \"Ballpen\" ,\"Yellow Paper\"]\n",
        "x=SchoolSupplies[0]\n",
        "print (x)"
      ],
      "metadata": {
        "colab": {
          "base_uri": "https://localhost:8080/"
        },
        "id": "Br7CgWBjtygZ",
        "outputId": "505eddb7-ba04-4381-ffe4-e7249b7294eb"
      },
      "execution_count": 2,
      "outputs": [
        {
          "output_type": "stream",
          "name": "stdout",
          "text": [
            "Pencil\n"
          ]
        }
      ]
    },
    {
      "cell_type": "code",
      "source": [
        "animals=[\"cat\",\"dog\",\"fish\"]\n",
        "animals[0]=\"monkey\"\n",
        "print(animals)"
      ],
      "metadata": {
        "colab": {
          "base_uri": "https://localhost:8080/"
        },
        "id": "Rb79OpRIvu_U",
        "outputId": "2101c8ad-4b54-4683-ec0c-f6fbabd22c98"
      },
      "execution_count": 3,
      "outputs": [
        {
          "output_type": "stream",
          "name": "stdout",
          "text": [
            "['monkey', 'dog', 'fish']\n"
          ]
        }
      ]
    },
    {
      "cell_type": "markdown",
      "source": [
        "Looping Array Elements"
      ],
      "metadata": {
        "id": "tK1pRPlXwKpb"
      }
    },
    {
      "cell_type": "code",
      "source": [
        "animals=[\"cat\",\"dog\",\"fish\"]\n",
        "for x in animals:\n",
        "  print(x)"
      ],
      "metadata": {
        "colab": {
          "base_uri": "https://localhost:8080/"
        },
        "id": "ouM7R8X8xJxx",
        "outputId": "de53eb81-6779-4fd0-ba2d-afd932083e71"
      },
      "execution_count": 9,
      "outputs": [
        {
          "output_type": "stream",
          "name": "stdout",
          "text": [
            "cat\n",
            "dog\n",
            "fish\n"
          ]
        }
      ]
    },
    {
      "cell_type": "markdown",
      "source": [
        "Adding Elements in Array"
      ],
      "metadata": {
        "id": "lNuMawlGxqm4"
      }
    },
    {
      "cell_type": "code",
      "source": [
        "animals=[\"cat\",\"dog\",\"fish\"]\n",
        "animals.append(\"monkey\")\n",
        "print(animals)"
      ],
      "metadata": {
        "colab": {
          "base_uri": "https://localhost:8080/"
        },
        "id": "9w-35dwxxtFQ",
        "outputId": "f1704274-b9c6-433a-ba7f-9ece255defe9"
      },
      "execution_count": 10,
      "outputs": [
        {
          "output_type": "stream",
          "name": "stdout",
          "text": [
            "['cat', 'dog', 'fish', 'monkey']\n"
          ]
        }
      ]
    },
    {
      "cell_type": "markdown",
      "source": [
        "Removing an element in the array"
      ],
      "metadata": {
        "id": "UMwZ_ur0x8Xo"
      }
    },
    {
      "cell_type": "code",
      "source": [
        "animals=[\"cat\",\"dog\",\"fish\"]\n",
        "animals.pop(1)\n",
        "print(animals)"
      ],
      "metadata": {
        "colab": {
          "base_uri": "https://localhost:8080/"
        },
        "id": "dKc6Gn-SyAAg",
        "outputId": "33565998-f3ab-4cfd-bb46-415b345d9c3c"
      },
      "execution_count": 11,
      "outputs": [
        {
          "output_type": "stream",
          "name": "stdout",
          "text": [
            "['cat', 'fish']\n"
          ]
        }
      ]
    },
    {
      "cell_type": "code",
      "source": [
        "animals=[\"cat\",\"dog\",\"fish\"]\n",
        "animals.append('monkey')\n",
        "x=len(animals)\n",
        "print (animals)"
      ],
      "metadata": {
        "colab": {
          "base_uri": "https://localhost:8080/"
        },
        "id": "G3lyw0Rq0S1E",
        "outputId": "4eb1db36-8a90-49ed-9d83-8aac7a7d2424"
      },
      "execution_count": 17,
      "outputs": [
        {
          "output_type": "stream",
          "name": "stdout",
          "text": [
            "['cat', 'dog', 'fish', 'monkey']\n"
          ]
        }
      ]
    },
    {
      "cell_type": "markdown",
      "source": [
        "Sorting activity"
      ],
      "metadata": {
        "id": "0YCtHJml2F4g"
      }
    },
    {
      "cell_type": "code",
      "source": [
        "animals= [\"Monkey\", \"cat\", \"dog\", \"fish\"];\n",
        "animals.sort(key=lambda x: x.lower ())\n",
        "print(animals)"
      ],
      "metadata": {
        "colab": {
          "base_uri": "https://localhost:8080/"
        },
        "id": "_-Nxhhwh2HvP",
        "outputId": "d2c9a188-c520-4cef-816b-af0e21151f49"
      },
      "execution_count": 22,
      "outputs": [
        {
          "output_type": "stream",
          "name": "stdout",
          "text": [
            "['cat', 'dog', 'fish', 'Monkey']\n"
          ]
        }
      ]
    }
  ]
}