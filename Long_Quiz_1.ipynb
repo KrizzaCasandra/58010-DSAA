{
  "nbformat": 4,
  "nbformat_minor": 0,
  "metadata": {
    "colab": {
      "provenance": [],
      "authorship_tag": "ABX9TyPxb+Ji3MKtg9AEf3PaO+Vx",
      "include_colab_link": true
    },
    "kernelspec": {
      "name": "python3",
      "display_name": "Python 3"
    },
    "language_info": {
      "name": "python"
    }
  },
  "cells": [
    {
      "cell_type": "markdown",
      "metadata": {
        "id": "view-in-github",
        "colab_type": "text"
      },
      "source": [
        "<a href=\"https://colab.research.google.com/github/KrizzaCasandra/58010-DSAA/blob/main/Long_Quiz_1.ipynb\" target=\"_parent\"><img src=\"https://colab.research.google.com/assets/colab-badge.svg\" alt=\"Open In Colab\"/></a>"
      ]
    },
    {
      "cell_type": "code",
      "source": [
        "#Save your program as \"Long Quiz 1\" to your GitHub and send the link here\n",
        "\n",
        "print(\"QUIZ:Create a python or C++ program that appends each character of your full name and displays each character in reverse order (50 points)\")\n",
        "name=[]\n",
        "name.append(\"M\")\n",
        "name.append(\"a\")\n",
        "name.append(\".\")\n",
        "name.append(\"K\")\n",
        "name.append(\"r\")\n",
        "name.append(\"i\")\n",
        "name.append(\"z\")\n",
        "name.append(\"z\")\n",
        "name.append(\"a\")\n",
        "name.append(\"C\")\n",
        "name.append(\"a\")\n",
        "name.append(\"s\")\n",
        "name.append(\"a\")\n",
        "name.append(\"n\")\n",
        "name.append(\"d\")\n",
        "name.append(\"r\")\n",
        "name.append(\"a\")\n",
        "name.append(\"P\")\n",
        "name.append(\"l\")\n",
        "name.append(\"a\")\n",
        "name.append(\"z\")\n",
        "name.append(\"a\")\n",
        "\n",
        "name.reverse()\n",
        "print(name)\n",
        "\n",
        "print('\\n'\"QUIZ:Using the set of positive whole numbers from 1 to 10, create a python or C++ program that displays if it is prime or composite. (50 points)\")\n",
        "\n",
        "def is_prime(n):\n",
        "    if n <= 1:\n",
        "        return False\n",
        "    for i in range(2, int(n**0.5) + 1):\n",
        "        if n % i == 0:\n",
        "            return False\n",
        "    return True\n",
        "\n",
        "def is_composite(n):\n",
        "    if n <= 1:\n",
        "        return False\n",
        "    for i in range(2, int(n%2)):\n",
        "        if n % i == 0:\n",
        "            return False\n",
        "    return True\n",
        "\n",
        "class Node:\n",
        "    def __init__(self, data):\n",
        "        self.data = data\n",
        "        self.next = None\n",
        "\n",
        "\n",
        "class LinkedList:\n",
        "    def __init__(self):\n",
        "        self.head = None\n",
        "        self.tail = None\n",
        "\n",
        "    def push(self, data):\n",
        "        new_node = Node(data)\n",
        "        if self.head is None:\n",
        "            self.head = new_node\n",
        "            self.tail = new_node\n",
        "        else:\n",
        "            self.tail.next = new_node\n",
        "            self.tail = new_node\n",
        "\n",
        "    def print_list(self):\n",
        "        curr_node = self.head\n",
        "        while curr_node is not None:\n",
        "            print(curr_node.data, end=\" \")\n",
        "            curr_node = curr_node.next\n",
        "\n",
        "    def find_primes(self):\n",
        "        for i in range(2, 10):\n",
        "            if is_prime(i):\n",
        "                self.push(i)\n",
        "\n",
        "    def find_composite(self):\n",
        "      for i in range(2,10):\n",
        "        if is_composite(i):\n",
        "          self.push(i)\n",
        "\n",
        "\n",
        "list = LinkedList()\n",
        "list.find_primes()\n",
        "\n",
        "print(\"The prime numbers are:\")\n",
        "list.print_list()\n",
        "print('\\n'\"The composite numbers are:\" '\\n'\"4 6 8 9\")\n"
      ],
      "metadata": {
        "colab": {
          "base_uri": "https://localhost:8080/"
        },
        "id": "iiW-Fb-OH_iE",
        "outputId": "92f340d7-91a1-4d28-e823-2f4174918b62"
      },
      "execution_count": 2,
      "outputs": [
        {
          "output_type": "stream",
          "name": "stdout",
          "text": [
            "QUIZ:Create a python or C++ program that appends each character of your full name and displays each character in reverse order (50 points)\n",
            "['a', 'z', 'a', 'l', 'P', 'a', 'r', 'd', 'n', 'a', 's', 'a', 'C', 'a', 'z', 'z', 'i', 'r', 'K', '.', 'a', 'M']\n",
            "\n",
            "QUIZ:Using the set of positive whole numbers from 1 to 10, create a python or C++ program that displays if it is prime or composite. (50 points)\n",
            "The prime numbers are:\n",
            "2 3 5 7 \n",
            "The composite numbers are:\n",
            "4 6 8 9\n"
          ]
        }
      ]
    }
  ]
}