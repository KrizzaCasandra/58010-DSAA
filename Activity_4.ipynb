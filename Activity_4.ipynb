{
  "nbformat": 4,
  "nbformat_minor": 0,
  "metadata": {
    "colab": {
      "provenance": [],
      "authorship_tag": "ABX9TyMjyaVLtQUmJG6GD/NTSU+9",
      "include_colab_link": true
    },
    "kernelspec": {
      "name": "python3",
      "display_name": "Python 3"
    },
    "language_info": {
      "name": "python"
    }
  },
  "cells": [
    {
      "cell_type": "markdown",
      "metadata": {
        "id": "view-in-github",
        "colab_type": "text"
      },
      "source": [
        "<a href=\"https://colab.research.google.com/github/KrizzaCasandra/58010-DSAA/blob/main/Activity_4.ipynb\" target=\"_parent\"><img src=\"https://colab.research.google.com/assets/colab-badge.svg\" alt=\"Open In Colab\"/></a>"
      ]
    },
    {
      "cell_type": "code",
      "execution_count": 56,
      "metadata": {
        "colab": {
          "base_uri": "https://localhost:8080/"
        },
        "id": "UmoAD7flNq8d",
        "outputId": "4d56ad38-e9cc-48df-b3f9-5be801cc872b"
      },
      "outputs": [
        {
          "output_type": "stream",
          "name": "stdout",
          "text": [
            "[0, 2, 4, 6, 8, 10, 12, 14, 16, 18, 20, 22, 24, 26, 28, 30, 32, 34, 36, 38, 40, 42, 44, 46, 48, 50]\n",
            "[2, 4, 6, 8, 10, 12, 14, 16, 18, 20, 22, 24, 26, 28, 30, 32, 34, 36, 38, 40, 42, 44, 46, 48, 50]\n",
            "[4, 6, 8, 10, 12, 14, 16, 18, 20, 22, 24, 26, 28, 30, 32, 34, 36, 38, 40, 42, 44, 46, 48, 50]\n",
            "[6, 8, 10, 12, 14, 16, 18, 20, 22, 24, 26, 28, 30, 32, 34, 36, 38, 40, 42, 44, 46, 48, 50]\n",
            "[8, 10, 12, 14, 16, 18, 20, 22, 24, 26, 28, 30, 32, 34, 36, 38, 40, 42, 44, 46, 48, 50]\n",
            "[10, 12, 14, 16, 18, 20, 22, 24, 26, 28, 30, 32, 34, 36, 38, 40, 42, 44, 46, 48, 50]\n",
            "[12, 14, 16, 18, 20, 22, 24, 26, 28, 30, 32, 34, 36, 38, 40, 42, 44, 46, 48, 50]\n",
            "[14, 16, 18, 20, 22, 24, 26, 28, 30, 32, 34, 36, 38, 40, 42, 44, 46, 48, 50]\n",
            "[16, 18, 20, 22, 24, 26, 28, 30, 32, 34, 36, 38, 40, 42, 44, 46, 48, 50]\n",
            "[18, 20, 22, 24, 26, 28, 30, 32, 34, 36, 38, 40, 42, 44, 46, 48, 50]\n",
            "[20, 22, 24, 26, 28, 30, 32, 34, 36, 38, 40, 42, 44, 46, 48, 50]\n",
            "[22, 24, 26, 28, 30, 32, 34, 36, 38, 40, 42, 44, 46, 48, 50]\n",
            "[24, 26, 28, 30, 32, 34, 36, 38, 40, 42, 44, 46, 48, 50]\n",
            "[26, 28, 30, 32, 34, 36, 38, 40, 42, 44, 46, 48, 50]\n",
            "[28, 30, 32, 34, 36, 38, 40, 42, 44, 46, 48, 50]\n",
            "[30, 32, 34, 36, 38, 40, 42, 44, 46, 48, 50]\n",
            "[32, 34, 36, 38, 40, 42, 44, 46, 48, 50]\n",
            "[34, 36, 38, 40, 42, 44, 46, 48, 50]\n",
            "[36, 38, 40, 42, 44, 46, 48, 50]\n",
            "[38, 40, 42, 44, 46, 48, 50]\n",
            "[40, 42, 44, 46, 48, 50]\n",
            "[42, 44, 46, 48, 50]\n",
            "[44, 46, 48, 50]\n",
            "[46, 48, 50]\n",
            "[48, 50]\n",
            "[50]\n",
            "[]\n"
          ]
        }
      ],
      "source": [
        "#Create a Python program that will traverse all integers (1 to 50) from the list, enqueue those integers that are even in the list, and dequeue afterward until the list becomes empty.\n",
        "\n",
        "#INSERT THE ELEMENT IN THE QUEUE, ENQUEUE\n",
        "queues=[]\n",
        "integers=range(51)\n",
        "for x in integers:\n",
        "  if x%2==0:\n",
        "    queues.append(x)\n",
        "\n",
        "print(queues)\n",
        "\n",
        "while queues:\n",
        "  queues.pop(0)\n",
        "  print(queues)\n"
      ]
    },
    {
      "cell_type": "code",
      "source": [
        "for number in range(2,51,2):\n",
        "  print(number)\n",
        "\n",
        "while Queues:\n",
        "  Queues.pop()\n",
        "  print(Queues.pop())"
      ],
      "metadata": {
        "id": "SXecgZV0V22A"
      },
      "execution_count": null,
      "outputs": []
    }
  ]
}