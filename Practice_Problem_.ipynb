{
  "nbformat": 4,
  "nbformat_minor": 0,
  "metadata": {
    "colab": {
      "provenance": [],
      "toc_visible": true,
      "authorship_tag": "ABX9TyM/xXNyNRjI5lPBNSqH+Jd+",
      "include_colab_link": true
    },
    "kernelspec": {
      "name": "python3",
      "display_name": "Python 3"
    },
    "language_info": {
      "name": "python"
    }
  },
  "cells": [
    {
      "cell_type": "markdown",
      "metadata": {
        "id": "view-in-github",
        "colab_type": "text"
      },
      "source": [
        "<a href=\"https://colab.research.google.com/github/KrizzaCasandra/58010-DSAA/blob/main/Practice_Problem_.ipynb\" target=\"_parent\"><img src=\"https://colab.research.google.com/assets/colab-badge.svg\" alt=\"Open In Colab\"/></a>"
      ]
    },
    {
      "cell_type": "markdown",
      "source": [
        "**Algorithm **\n",
        "\n",
        ">...\n",
        "\n",
        "\n",
        "*Step 1:* Start\n",
        "\n",
        "> ...\n",
        "\n",
        "\n",
        "*Step 2:* Input the list of test scores.\n",
        "\n",
        "> ...\n",
        "\n",
        "\n",
        "*Step 3:* For each test score in the list:\n",
        "         a. Check if the test score is even.\n",
        "         b. If it's even, add it to the sum.\n",
        "\n",
        "> ...\n",
        "\n",
        "\n",
        "*Step 4:* Print the sum as the total sum of even test scores.\n",
        "\n",
        "> ...\n",
        "\n",
        "\n",
        "*Step 5:* Stop\n"
      ],
      "metadata": {
        "id": "PSTWnwIVwxfQ"
      }
    },
    {
      "cell_type": "code",
      "source": [
        "test_scores = [26, 49, 98, 87, 62, 75]\n",
        "even_numbers_sum = add_even_numbers(test_scores)\n",
        "print( \"The sum of even numbers is \",even_numbers_sum)"
      ],
      "metadata": {
        "colab": {
          "base_uri": "https://localhost:8080/"
        },
        "id": "c9zVLuUszLzX",
        "outputId": "870e3f05-af4d-4894-9b06-1e7a6f010e4c"
      },
      "execution_count": 9,
      "outputs": [
        {
          "output_type": "stream",
          "name": "stdout",
          "text": [
            "The sum of even numbers is  186\n"
          ]
        }
      ]
    }
  ]
}