{
  "nbformat": 4,
  "nbformat_minor": 0,
  "metadata": {
    "colab": {
      "provenance": [],
      "authorship_tag": "ABX9TyP6tFkCulXkSx3Sqdo9ElSh",
      "include_colab_link": true
    },
    "kernelspec": {
      "name": "python3",
      "display_name": "Python 3"
    },
    "language_info": {
      "name": "python"
    }
  },
  "cells": [
    {
      "cell_type": "markdown",
      "metadata": {
        "id": "view-in-github",
        "colab_type": "text"
      },
      "source": [
        "<a href=\"https://colab.research.google.com/github/KrizzaCasandra/58010-DSAA/blob/main/Activity_2.ipynb\" target=\"_parent\"><img src=\"https://colab.research.google.com/assets/colab-badge.svg\" alt=\"Open In Colab\"/></a>"
      ]
    },
    {
      "cell_type": "code",
      "execution_count": 16,
      "metadata": {
        "colab": {
          "base_uri": "https://localhost:8080/"
        },
        "id": "-9ZOgNYqvlVc",
        "outputId": "1d263315-8db6-458e-8be0-b0e4b9e19ae8"
      },
      "outputs": [
        {
          "output_type": "stream",
          "name": "stdout",
          "text": [
            "The prime numbers less than 20 are:\n",
            "2 3 5 7 11 13 17 19 \n",
            "The head of the list is: 2\n",
            "The tail of the list is: 19\n"
          ]
        }
      ],
      "source": [
        "#Write a Python program to create a singly linked list of prime numbers less than 20. By iterating through the list, display all the prime numbers, the head, and the tail of the list. (using Google Colab)\n",
        "#Save your source codes to GitHub\n",
        "#Name it as Activity 2 and copy the link of your GitHub repository DSA 58010 here\n",
        "\n",
        "def is_prime(n):\n",
        "    if n <= 1:\n",
        "        return False\n",
        "    for i in range(2, int(n**0.5) + 1):\n",
        "        if n % i == 0:\n",
        "            return False\n",
        "    return True\n",
        "\n",
        "\n",
        "class Node:\n",
        "    def __init__(self, data):\n",
        "        self.data = data\n",
        "        self.next = None\n",
        "\n",
        "\n",
        "class LinkedList:\n",
        "    def __init__(self):\n",
        "        self.head = None\n",
        "        self.tail = None\n",
        "\n",
        "    def push(self, data):\n",
        "        new_node = Node(data)\n",
        "        if self.head is None:\n",
        "            self.head = new_node\n",
        "            self.tail = new_node\n",
        "        else:\n",
        "            self.tail.next = new_node\n",
        "            self.tail = new_node\n",
        "\n",
        "    def print_list(self):\n",
        "        curr_node = self.head\n",
        "        while curr_node is not None:\n",
        "            print(curr_node.data, end=\" \")\n",
        "            curr_node = curr_node.next\n",
        "\n",
        "    def find_primes(self):\n",
        "        for i in range(2, 20):\n",
        "            if is_prime(i):\n",
        "                self.push(i)\n",
        "\n",
        "\n",
        "list = LinkedList()\n",
        "list.find_primes()\n",
        "\n",
        "print(\"The prime numbers less than 20 are:\")\n",
        "list.print_list()\n",
        "\n",
        "print('\\n'\"The head of the list is:\", list.head.data)\n",
        "print(\"The tail of the list is:\", list.tail.data)"
      ]
    }
  ]
}